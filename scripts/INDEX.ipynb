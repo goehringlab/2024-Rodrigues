{
 "cells": [
  {
   "cell_type": "markdown",
   "metadata": {},
   "source": [
    "This repository contains the following notebooks outlining analysis performed in Rodrigues et al., 2022:\n",
    "\n",
    "- [LOWESS](notebooks/LOWESS.ipynb) \n",
    "Code for performing LOWESS scatterplot smoothing on dosage vs phenotype data (Figure 3)\n",
    "- [Variance](notebooks/Variance.ipynb)\n",
    "Code for performing local variance estimation on dosage vs phenotype data (Figure 3)\n",
    "- [Membrane quantification](notebooks/Membrane_quantification.ipynb) \n",
    "Code for extracting membrane concentrations from midplane confocal images of embryos (Figure 4)"
   ]
  }
 ],
 "metadata": {
  "kernelspec": {
   "display_name": "Python 3",
   "language": "python",
   "name": "python3"
  },
  "language_info": {
   "codemirror_mode": {
    "name": "ipython",
    "version": 3
   },
   "file_extension": ".py",
   "mimetype": "text/x-python",
   "name": "python",
   "nbconvert_exporter": "python",
   "pygments_lexer": "ipython3",
   "version": "3.7.9"
  }
 },
 "nbformat": 4,
 "nbformat_minor": 4
}
