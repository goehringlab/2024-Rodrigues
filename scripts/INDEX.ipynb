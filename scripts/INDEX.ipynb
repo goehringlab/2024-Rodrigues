{
 "cells": [
  {
   "cell_type": "markdown",
   "metadata": {},
   "source": [
    "This repository contains the following notebooks outlining analysis performed in Rodrigues et al., 2024:\n",
    "\n",
    "- [LOWESS](LOWESS.ipynb) \n",
    "Code for performing LOWESS scatterplot smoothing on dosage vs phenotype data (Figure 3)\n",
    "- [Variance](Variance.ipynb)\n",
    "Code for performing local variance estimation on dosage vs phenotype data (Figure 3)\n",
    "- [Membrane quantification](Membrane_quantification.ipynb) \n",
    "Code for extracting membrane concentrations from midplane confocal images of embryos (Figure 4)"
   ]
  },
  {
   "cell_type": "code",
   "execution_count": null,
   "metadata": {},
   "outputs": [],
   "source": []
  }
 ],
 "metadata": {
  "kernelspec": {
   "display_name": "Python 3 (ipykernel)",
   "language": "python",
   "name": "python3"
  },
  "language_info": {
   "codemirror_mode": {
    "name": "ipython",
    "version": 3
   },
   "file_extension": ".py",
   "mimetype": "text/x-python",
   "name": "python",
   "nbconvert_exporter": "python",
   "pygments_lexer": "ipython3",
   "version": "3.11.6"
  }
 },
 "nbformat": 4,
 "nbformat_minor": 4
}
